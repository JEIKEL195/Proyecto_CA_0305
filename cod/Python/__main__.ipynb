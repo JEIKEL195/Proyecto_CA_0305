{
 "cells": [
  {
   "cell_type": "code",
   "execution_count": 2,
   "id": "e328a2a3",
   "metadata": {},
   "outputs": [],
   "source": [
    "from JugadorRuleta import JugadorRuleta\n",
    "from Ruleta import Ruleta"
   ]
  },
  {
   "cell_type": "code",
   "execution_count": 21,
   "id": "ee0d8362",
   "metadata": {},
   "outputs": [],
   "source": [
    "jugador = JugadorRuleta(nombre = \"Venegas\", saldo_inicial = 1714)"
   ]
  },
  {
   "cell_type": "code",
   "execution_count": 26,
   "id": "2c4f27da",
   "metadata": {},
   "outputs": [
    {
     "data": {
      "text/plain": [
       "<ApuestaRuleta.ApuestaRuleta at 0x271a9180950>"
      ]
     },
     "execution_count": 26,
     "metadata": {},
     "output_type": "execute_result"
    }
   ],
   "source": [
    "jugador.hacer_apuesta('paridad', 'negro', 1714)"
   ]
  },
  {
   "cell_type": "code",
   "execution_count": 13,
   "id": "c3039f21",
   "metadata": {},
   "outputs": [],
   "source": [
    "ruleta = Ruleta()"
   ]
  },
  {
   "cell_type": "code",
   "execution_count": 24,
   "id": "970010bf",
   "metadata": {},
   "outputs": [
    {
     "name": "stdout",
     "output_type": "stream",
     "text": [
      "(35, 'negro', 'impar')\n"
     ]
    }
   ],
   "source": [
    "resultado = ruleta.girar()\n",
    "print(resultado)"
   ]
  },
  {
   "cell_type": "code",
   "execution_count": 27,
   "id": "609f55db",
   "metadata": {},
   "outputs": [
    {
     "data": {
      "text/plain": [
       "3428"
      ]
     },
     "execution_count": 27,
     "metadata": {},
     "output_type": "execute_result"
    }
   ],
   "source": [
    "jugador.actualizar_saldo(resultado)"
   ]
  }
 ],
 "metadata": {
  "kernelspec": {
   "display_name": "Python 3 (ipykernel)",
   "language": "python",
   "name": "python3"
  },
  "language_info": {
   "codemirror_mode": {
    "name": "ipython",
    "version": 3
   },
   "file_extension": ".py",
   "mimetype": "text/x-python",
   "name": "python",
   "nbconvert_exporter": "python",
   "pygments_lexer": "ipython3",
   "version": "3.11.3"
  }
 },
 "nbformat": 4,
 "nbformat_minor": 5
}
